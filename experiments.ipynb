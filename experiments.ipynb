{
 "cells": [
  {
   "cell_type": "code",
   "execution_count": 6,
   "metadata": {},
   "outputs": [
    {
     "name": "stderr",
     "output_type": "stream",
     "text": [
      "2024-08-20 14:52:10,702 - INFO - Operation performed successfully.\n"
     ]
    }
   ],
   "source": [
    "import logging\n",
    "\n",
    "logging.basicConfig(level=logging.WARNING,\n",
    "                    format='%(asctime)s - %(levelname)s - %(message)s')\n",
    "\n",
    "\n",
    "def perform_operation(value):\n",
    "    if value < 0:\n",
    "        raise ValueError(\"Invalid value: Value cannot be negative.\")\n",
    "    else:\n",
    "        # Continue with normal execution\n",
    "        logging.info(\"Operation performed successfully.\")\n",
    "\n",
    "\n",
    "try:\n",
    "    input_value = 1\n",
    "    perform_operation(input_value)\n",
    "except ValueError as ve:\n",
    "    logging.exception(\"Exception occurred: %s\", str(ve))"
   ]
  },
  {
   "cell_type": "code",
   "execution_count": 3,
   "metadata": {},
   "outputs": [
    {
     "data": {
      "text/html": [
       "<div>\n",
       "<style scoped>\n",
       "    .dataframe tbody tr th:only-of-type {\n",
       "        vertical-align: middle;\n",
       "    }\n",
       "\n",
       "    .dataframe tbody tr th {\n",
       "        vertical-align: top;\n",
       "    }\n",
       "\n",
       "    .dataframe thead th {\n",
       "        text-align: right;\n",
       "    }\n",
       "</style>\n",
       "<table border=\"1\" class=\"dataframe\">\n",
       "  <thead>\n",
       "    <tr style=\"text-align: right;\">\n",
       "      <th></th>\n",
       "      <th>gender</th>\n",
       "      <th>race_ethnicity</th>\n",
       "      <th>parental_level_of_education</th>\n",
       "      <th>lunch</th>\n",
       "      <th>test_preparation_course</th>\n",
       "      <th>reading_score</th>\n",
       "      <th>writing_score</th>\n",
       "    </tr>\n",
       "  </thead>\n",
       "  <tbody>\n",
       "    <tr>\n",
       "      <th>0</th>\n",
       "      <td>male</td>\n",
       "      <td>good</td>\n",
       "      <td>be</td>\n",
       "      <td>rice</td>\n",
       "      <td>self</td>\n",
       "      <td>20</td>\n",
       "      <td>30</td>\n",
       "    </tr>\n",
       "  </tbody>\n",
       "</table>\n",
       "</div>"
      ],
      "text/plain": [
       "  gender race_ethnicity parental_level_of_education lunch  \\\n",
       "0   male           good                          be  rice   \n",
       "\n",
       "  test_preparation_course reading_score writing_score  \n",
       "0                    self            20            30  "
      ]
     },
     "execution_count": 3,
     "metadata": {},
     "output_type": "execute_result"
    }
   ],
   "source": [
    "import pandas as pd\n",
    "custom_data_input_dict = {\n",
    "                \"gender\": ['male'],\n",
    "                \"race_ethnicity\": ['good'],\n",
    "                \"parental_level_of_education\": ['be'],\n",
    "                \"lunch\": ['rice'],\n",
    "                \"test_preparation_course\": ['self'],\n",
    "                \"reading_score\": ['20'],\n",
    "                \"writing_score\": ['30'],\n",
    "            }\n",
    "\n",
    "pd.DataFrame(custom_data_input_dict)\n"
   ]
  },
  {
   "cell_type": "code",
   "execution_count": null,
   "metadata": {},
   "outputs": [],
   "source": [
    "import os\n",
    "os.path.join('artificat',\"train.csv\")"
   ]
  },
  {
   "cell_type": "code",
   "execution_count": 9,
   "metadata": {},
   "outputs": [
    {
     "data": {
      "text/plain": [
       "'C:\\\\Projects\\\\endtoendCICD\\\\src\\\\pipeline'"
      ]
     },
     "execution_count": 9,
     "metadata": {},
     "output_type": "execute_result"
    }
   ],
   "source": [
    "import os\n",
    "os.path.dirname('C:\\Projects\\endtoendCICD\\src\\pipeline\\data.csv')"
   ]
  },
  {
   "cell_type": "code",
   "execution_count": 8,
   "metadata": {},
   "outputs": [
    {
     "data": {
      "text/plain": [
       "'artificat\\\\train.csv'"
      ]
     },
     "execution_count": 8,
     "metadata": {},
     "output_type": "execute_result"
    }
   ],
   "source": [
    "os.path.join('artificat',\"train.csv\")"
   ]
  },
  {
   "cell_type": "code",
   "execution_count": 2,
   "metadata": {},
   "outputs": [
    {
     "data": {
      "text/plain": [
       "'artificat'"
      ]
     },
     "execution_count": 2,
     "metadata": {},
     "output_type": "execute_result"
    }
   ],
   "source": [
    "import os\n",
    "os.path.dirname(os.path.join('artificat',\"train.csv\"))"
   ]
  },
  {
   "cell_type": "code",
   "execution_count": 3,
   "metadata": {},
   "outputs": [
    {
     "data": {
      "text/plain": [
       "'C:\\\\Projects\\\\MLcicd\\\\ML_CI-CD\\\\src\\\\execption.py'"
      ]
     },
     "execution_count": 3,
     "metadata": {},
     "output_type": "execute_result"
    }
   ],
   "source": [
    "import os\n",
    "os.path.join('C:\\\\Projects\\\\MLcicd\\\\ML_CI-CD\\\\src\\\\execption.py')"
   ]
  },
  {
   "cell_type": "code",
   "execution_count": 4,
   "metadata": {},
   "outputs": [
    {
     "name": "stdout",
     "output_type": "stream",
     "text": [
      "c:\\Users\\vishwas.balkundi\\miniforge3\\envs\\myenv\\python310.zip\n",
      "c:\\Users\\vishwas.balkundi\\miniforge3\\envs\\myenv\\DLLs\n",
      "c:\\Users\\vishwas.balkundi\\miniforge3\\envs\\myenv\\lib\n",
      "c:\\Users\\vishwas.balkundi\\miniforge3\\envs\\myenv\n",
      "\n",
      "c:\\Users\\vishwas.balkundi\\miniforge3\\envs\\myenv\\lib\\site-packages\n",
      "c:\\Users\\vishwas.balkundi\\miniforge3\\envs\\myenv\\lib\\site-packages\\win32\n",
      "c:\\Users\\vishwas.balkundi\\miniforge3\\envs\\myenv\\lib\\site-packages\\win32\\lib\n",
      "c:\\Users\\vishwas.balkundi\\miniforge3\\envs\\myenv\\lib\\site-packages\\Pythonwin\n"
     ]
    }
   ],
   "source": [
    "import sys\n",
    "\n",
    "# Print the list of directories in sys.path\n",
    "for path in sys.path:\n",
    "    print(path)"
   ]
  },
  {
   "cell_type": "code",
   "execution_count": 5,
   "metadata": {},
   "outputs": [
    {
     "data": {
      "text/plain": [
       "9"
      ]
     },
     "execution_count": 5,
     "metadata": {},
     "output_type": "execute_result"
    }
   ],
   "source": [
    "len(sys.path)"
   ]
  },
  {
   "cell_type": "code",
   "execution_count": 4,
   "metadata": {},
   "outputs": [],
   "source": [
    "a=[5,4,3,2,1]\n",
    "for i in range(len(a)):\n",
    "    for j in range(0,len(a)-i-1):\n",
    "        if a[j]>a[j+1]:\n",
    "            a[j], a[j + 1] = a[j + 1], a[j]\n",
    "            "
   ]
  },
  {
   "cell_type": "code",
   "execution_count": 5,
   "metadata": {},
   "outputs": [
    {
     "name": "stdout",
     "output_type": "stream",
     "text": [
      "[1, 2, 3, 4, 5]\n"
     ]
    }
   ],
   "source": [
    "print(a)"
   ]
  },
  {
   "cell_type": "code",
   "execution_count": null,
   "metadata": {},
   "outputs": [],
   "source": []
  }
 ],
 "metadata": {
  "kernelspec": {
   "display_name": "Python 3",
   "language": "python",
   "name": "python3"
  },
  "language_info": {
   "codemirror_mode": {
    "name": "ipython",
    "version": 3
   },
   "file_extension": ".py",
   "mimetype": "text/x-python",
   "name": "python",
   "nbconvert_exporter": "python",
   "pygments_lexer": "ipython3",
   "version": "3.10.14"
  }
 },
 "nbformat": 4,
 "nbformat_minor": 2
}
